{
 "cells": [
  {
   "cell_type": "markdown",
   "metadata": {},
   "source": [
    "# ETL Processes\n",
    "Use this notebook to develop the ETL process for each of your tables before completing the `etl.py` file to load the whole datasets."
   ]
  },
  {
   "cell_type": "code",
   "execution_count": 1,
   "metadata": {},
   "outputs": [],
   "source": [
    "import os\n",
    "import glob\n",
    "import psycopg2\n",
    "import pandas as pd\n",
    "from sql_queries import *"
   ]
  },
  {
   "cell_type": "code",
   "execution_count": 2,
   "metadata": {},
   "outputs": [],
   "source": [
    "conn = psycopg2.connect(\"host=127.0.0.1 dbname=sparkifydb user=student password=student\")\n",
    "cur = conn.cursor()"
   ]
  },
  {
   "cell_type": "code",
   "execution_count": 3,
   "metadata": {},
   "outputs": [],
   "source": [
    "def get_files(filepath):\n",
    "    all_files = []\n",
    "    for root, dirs, files in os.walk(filepath):\n",
    "        files = glob.glob(os.path.join(root,'*.json'))\n",
    "        for f in files :\n",
    "            all_files.append(os.path.abspath(f))\n",
    "    \n",
    "    return all_files"
   ]
  },
  {
   "cell_type": "markdown",
   "metadata": {},
   "source": [
    "# Process `song_data`\n",
    "In this first part, you'll perform ETL on the first dataset, `song_data`, to create the `songs` and `artists` dimensional tables.\n",
    "\n",
    "Let's perform ETL on a single song file and load a single record into each table to start.\n",
    "- Use the `get_files` function provided above to get a list of all song JSON files in `data/song_data`\n",
    "- Select the first song in this list\n",
    "- Read the song file and view the data"
   ]
  },
  {
   "cell_type": "code",
   "execution_count": 4,
   "metadata": {},
   "outputs": [],
   "source": [
    "filepath = '/home/workspace/data/song_data'"
   ]
  },
  {
   "cell_type": "code",
   "execution_count": 5,
   "metadata": {},
   "outputs": [],
   "source": [
    "song_files = get_files(filepath)"
   ]
  },
  {
   "cell_type": "code",
   "execution_count": 6,
   "metadata": {},
   "outputs": [
    {
     "data": {
      "text/plain": [
       "['/home/workspace/data/song_data/A/A/A/TRAAAVO128F93133D4.json',\n",
       " '/home/workspace/data/song_data/A/A/A/TRAAAEF128F4273421.json',\n",
       " '/home/workspace/data/song_data/A/A/A/TRAAAMO128F1481E7F.json',\n",
       " '/home/workspace/data/song_data/A/A/A/TRAAAPK128E0786D96.json',\n",
       " '/home/workspace/data/song_data/A/A/A/TRAAABD128F429CF47.json',\n",
       " '/home/workspace/data/song_data/A/A/A/TRAAAVG12903CFA543.json',\n",
       " '/home/workspace/data/song_data/A/A/A/TRAAAFD128F92F423A.json',\n",
       " '/home/workspace/data/song_data/A/A/A/TRAAAMQ128F1460CD3.json',\n",
       " '/home/workspace/data/song_data/A/A/A/TRAAARJ128F9320760.json',\n",
       " '/home/workspace/data/song_data/A/A/A/TRAAAAW128F429D538.json',\n",
       " '/home/workspace/data/song_data/A/A/A/TRAAADZ128F9348C2E.json',\n",
       " '/home/workspace/data/song_data/A/A/C/TRAACZK128F4243829.json',\n",
       " '/home/workspace/data/song_data/A/A/C/TRAACOW128F933E35F.json',\n",
       " '/home/workspace/data/song_data/A/A/C/TRAACIW12903CC0F6D.json',\n",
       " '/home/workspace/data/song_data/A/A/C/TRAACFV128F935E50B.json',\n",
       " '/home/workspace/data/song_data/A/A/C/TRAACTB12903CAAF15.json',\n",
       " '/home/workspace/data/song_data/A/A/C/TRAACSL128F93462F4.json',\n",
       " '/home/workspace/data/song_data/A/A/C/TRAACLV128F427E123.json',\n",
       " '/home/workspace/data/song_data/A/A/C/TRAACNS128F14A2DF5.json',\n",
       " '/home/workspace/data/song_data/A/A/C/TRAACQT128F9331780.json',\n",
       " '/home/workspace/data/song_data/A/A/C/TRAACPE128F421C1B9.json',\n",
       " '/home/workspace/data/song_data/A/A/C/TRAACHN128F1489601.json',\n",
       " '/home/workspace/data/song_data/A/A/C/TRAACCG128F92E8A55.json',\n",
       " '/home/workspace/data/song_data/A/A/C/TRAACER128F4290F96.json',\n",
       " '/home/workspace/data/song_data/A/A/C/TRAACVS128E078BE39.json',\n",
       " '/home/workspace/data/song_data/A/A/B/TRAABVM128F92CA9DC.json',\n",
       " '/home/workspace/data/song_data/A/A/B/TRAABDL12903CAABBA.json',\n",
       " '/home/workspace/data/song_data/A/A/B/TRAABNV128F425CEE1.json',\n",
       " '/home/workspace/data/song_data/A/A/B/TRAABCL128F4286650.json',\n",
       " '/home/workspace/data/song_data/A/A/B/TRAABXG128F9318EBD.json',\n",
       " '/home/workspace/data/song_data/A/A/B/TRAABJL12903CDCF1A.json',\n",
       " '/home/workspace/data/song_data/A/A/B/TRAABRB128F9306DD5.json',\n",
       " '/home/workspace/data/song_data/A/A/B/TRAABYW128F4244559.json',\n",
       " '/home/workspace/data/song_data/A/A/B/TRAABJV128F1460C49.json',\n",
       " '/home/workspace/data/song_data/A/A/B/TRAABYN12903CFD305.json',\n",
       " '/home/workspace/data/song_data/A/A/B/TRAABLR128F423B7E3.json',\n",
       " '/home/workspace/data/song_data/A/B/A/TRABATO128F42627E9.json',\n",
       " '/home/workspace/data/song_data/A/B/A/TRABAVQ12903CBF7E0.json',\n",
       " '/home/workspace/data/song_data/A/B/A/TRABAIO128F42938F9.json',\n",
       " '/home/workspace/data/song_data/A/B/A/TRABAFP128F931E9A1.json',\n",
       " '/home/workspace/data/song_data/A/B/A/TRABAWW128F4250A31.json',\n",
       " '/home/workspace/data/song_data/A/B/A/TRABAXL128F424FC50.json',\n",
       " '/home/workspace/data/song_data/A/B/A/TRABACN128F425B784.json',\n",
       " '/home/workspace/data/song_data/A/B/A/TRABAFJ128F42AF24E.json',\n",
       " '/home/workspace/data/song_data/A/B/A/TRABAXV128F92F6AE3.json',\n",
       " '/home/workspace/data/song_data/A/B/A/TRABAXR128F426515F.json',\n",
       " '/home/workspace/data/song_data/A/B/A/TRABAZH128F930419A.json',\n",
       " '/home/workspace/data/song_data/A/B/C/TRABCXB128F4286BD3.json',\n",
       " '/home/workspace/data/song_data/A/B/C/TRABCFL128F149BB0D.json',\n",
       " '/home/workspace/data/song_data/A/B/C/TRABCIX128F4265903.json',\n",
       " '/home/workspace/data/song_data/A/B/C/TRABCPZ128F4275C32.json',\n",
       " '/home/workspace/data/song_data/A/B/C/TRABCRU128F423F449.json',\n",
       " '/home/workspace/data/song_data/A/B/C/TRABCKL128F423A778.json',\n",
       " '/home/workspace/data/song_data/A/B/C/TRABCEI128F424C983.json',\n",
       " '/home/workspace/data/song_data/A/B/C/TRABCTK128F934B224.json',\n",
       " '/home/workspace/data/song_data/A/B/C/TRABCAJ12903CDFCC2.json',\n",
       " '/home/workspace/data/song_data/A/B/C/TRABCUQ128E0783E2B.json',\n",
       " '/home/workspace/data/song_data/A/B/C/TRABCEC128F426456E.json',\n",
       " '/home/workspace/data/song_data/A/B/C/TRABCYE128F934CE1D.json',\n",
       " '/home/workspace/data/song_data/A/B/C/.ipynb_checkpoints/TRABCEC128F426456E-checkpoint.json',\n",
       " '/home/workspace/data/song_data/A/B/B/TRABBKX128F4285205.json',\n",
       " '/home/workspace/data/song_data/A/B/B/TRABBLU128F93349CF.json',\n",
       " '/home/workspace/data/song_data/A/B/B/TRABBOP128F931B50D.json',\n",
       " '/home/workspace/data/song_data/A/B/B/TRABBXU128F92FEF48.json',\n",
       " '/home/workspace/data/song_data/A/B/B/TRABBBV128F42967D7.json',\n",
       " '/home/workspace/data/song_data/A/B/B/TRABBOR128F4286200.json',\n",
       " '/home/workspace/data/song_data/A/B/B/TRABBTA128F933D304.json',\n",
       " '/home/workspace/data/song_data/A/B/B/TRABBNP128F932546F.json',\n",
       " '/home/workspace/data/song_data/A/B/B/TRABBZN12903CD9297.json',\n",
       " '/home/workspace/data/song_data/A/B/B/TRABBJE12903CDB442.json',\n",
       " '/home/workspace/data/song_data/A/B/B/TRABBVJ128F92F7EAA.json',\n",
       " '/home/workspace/data/song_data/A/B/B/TRABBAM128F429D223.json']"
      ]
     },
     "execution_count": 6,
     "metadata": {},
     "output_type": "execute_result"
    }
   ],
   "source": [
    "song_files"
   ]
  },
  {
   "cell_type": "code",
   "execution_count": 7,
   "metadata": {},
   "outputs": [
    {
     "data": {
      "text/html": [
       "<div>\n",
       "<style scoped>\n",
       "    .dataframe tbody tr th:only-of-type {\n",
       "        vertical-align: middle;\n",
       "    }\n",
       "\n",
       "    .dataframe tbody tr th {\n",
       "        vertical-align: top;\n",
       "    }\n",
       "\n",
       "    .dataframe thead th {\n",
       "        text-align: right;\n",
       "    }\n",
       "</style>\n",
       "<table border=\"1\" class=\"dataframe\">\n",
       "  <thead>\n",
       "    <tr style=\"text-align: right;\">\n",
       "      <th></th>\n",
       "      <th>artist_id</th>\n",
       "      <th>artist_latitude</th>\n",
       "      <th>artist_location</th>\n",
       "      <th>artist_longitude</th>\n",
       "      <th>artist_name</th>\n",
       "      <th>duration</th>\n",
       "      <th>num_songs</th>\n",
       "      <th>song_id</th>\n",
       "      <th>title</th>\n",
       "      <th>year</th>\n",
       "    </tr>\n",
       "  </thead>\n",
       "  <tbody>\n",
       "    <tr>\n",
       "      <th>0</th>\n",
       "      <td>ARGSJW91187B9B1D6B</td>\n",
       "      <td>35.21962</td>\n",
       "      <td>North Carolina</td>\n",
       "      <td>-80.01955</td>\n",
       "      <td>JennyAnyKind</td>\n",
       "      <td>218.77506</td>\n",
       "      <td>1</td>\n",
       "      <td>SOQHXMF12AB0182363</td>\n",
       "      <td>Young Boy Blues</td>\n",
       "      <td>0</td>\n",
       "    </tr>\n",
       "  </tbody>\n",
       "</table>\n",
       "</div>"
      ],
      "text/plain": [
       "            artist_id  artist_latitude artist_location  artist_longitude  \\\n",
       "0  ARGSJW91187B9B1D6B         35.21962  North Carolina         -80.01955   \n",
       "\n",
       "    artist_name   duration  num_songs             song_id            title  \\\n",
       "0  JennyAnyKind  218.77506          1  SOQHXMF12AB0182363  Young Boy Blues   \n",
       "\n",
       "   year  \n",
       "0     0  "
      ]
     },
     "execution_count": 7,
     "metadata": {},
     "output_type": "execute_result"
    }
   ],
   "source": [
    "df = pd.read_json(song_files[0], lines=True)\n",
    "df.head()"
   ]
  },
  {
   "cell_type": "markdown",
   "metadata": {},
   "source": [
    "## #1: `songs` Table\n",
    "#### Extract Data for Songs Table\n",
    "- Select columns for song ID, title, artist ID, year, and duration\n",
    "- Use `df.values` to select just the values from the dataframe\n",
    "- Index to select the first (only) record in the dataframe\n",
    "- Convert the array to a list and set it to `song_data`"
   ]
  },
  {
   "cell_type": "code",
   "execution_count": 8,
   "metadata": {},
   "outputs": [
    {
     "data": {
      "text/html": [
       "<div>\n",
       "<style scoped>\n",
       "    .dataframe tbody tr th:only-of-type {\n",
       "        vertical-align: middle;\n",
       "    }\n",
       "\n",
       "    .dataframe tbody tr th {\n",
       "        vertical-align: top;\n",
       "    }\n",
       "\n",
       "    .dataframe thead th {\n",
       "        text-align: right;\n",
       "    }\n",
       "</style>\n",
       "<table border=\"1\" class=\"dataframe\">\n",
       "  <thead>\n",
       "    <tr style=\"text-align: right;\">\n",
       "      <th></th>\n",
       "      <th>song_id</th>\n",
       "      <th>title</th>\n",
       "      <th>artist_id</th>\n",
       "      <th>year</th>\n",
       "      <th>duration</th>\n",
       "    </tr>\n",
       "  </thead>\n",
       "  <tbody>\n",
       "    <tr>\n",
       "      <th>0</th>\n",
       "      <td>SOQHXMF12AB0182363</td>\n",
       "      <td>Young Boy Blues</td>\n",
       "      <td>ARGSJW91187B9B1D6B</td>\n",
       "      <td>0</td>\n",
       "      <td>218.77506</td>\n",
       "    </tr>\n",
       "  </tbody>\n",
       "</table>\n",
       "</div>"
      ],
      "text/plain": [
       "              song_id            title           artist_id  year   duration\n",
       "0  SOQHXMF12AB0182363  Young Boy Blues  ARGSJW91187B9B1D6B     0  218.77506"
      ]
     },
     "execution_count": 8,
     "metadata": {},
     "output_type": "execute_result"
    }
   ],
   "source": [
    "df_s=df[['song_id','title','artist_id','year','duration']].copy()\n",
    "df_s"
   ]
  },
  {
   "cell_type": "code",
   "execution_count": 9,
   "metadata": {},
   "outputs": [
    {
     "data": {
      "text/plain": [
       "['SOQHXMF12AB0182363', 'Young Boy Blues', 'ARGSJW91187B9B1D6B', 0, 218.77506]"
      ]
     },
     "execution_count": 9,
     "metadata": {},
     "output_type": "execute_result"
    }
   ],
   "source": [
    "song_data = df_s.values.flatten().tolist()\n",
    "song_data"
   ]
  },
  {
   "cell_type": "markdown",
   "metadata": {},
   "source": [
    "#### Insert Record into Song Table\n",
    "Implement the `song_table_insert` query in `sql_queries.py` and run the cell below to insert a record for this song into the `songs` table. Remember to run `create_tables.py` before running the cell below to ensure you've created/resetted the `songs` table in the sparkify database."
   ]
  },
  {
   "cell_type": "code",
   "execution_count": 10,
   "metadata": {},
   "outputs": [],
   "source": [
    "cur.execute(song_table_insert, song_data)\n",
    "conn.commit()"
   ]
  },
  {
   "cell_type": "markdown",
   "metadata": {},
   "source": [
    "Run `test.ipynb` to see if you've successfully added a record to this table."
   ]
  },
  {
   "cell_type": "markdown",
   "metadata": {},
   "source": [
    "## #2: `artists` Table\n",
    "#### Extract Data for Artists Table\n",
    "- Select columns for artist ID, name, location, latitude, and longitude\n",
    "- Use `df.values` to select just the values from the dataframe\n",
    "- Index to select the first (only) record in the dataframe\n",
    "- Convert the array to a list and set it to `artist_data`"
   ]
  },
  {
   "cell_type": "code",
   "execution_count": 11,
   "metadata": {},
   "outputs": [
    {
     "data": {
      "text/html": [
       "<div>\n",
       "<style scoped>\n",
       "    .dataframe tbody tr th:only-of-type {\n",
       "        vertical-align: middle;\n",
       "    }\n",
       "\n",
       "    .dataframe tbody tr th {\n",
       "        vertical-align: top;\n",
       "    }\n",
       "\n",
       "    .dataframe thead th {\n",
       "        text-align: right;\n",
       "    }\n",
       "</style>\n",
       "<table border=\"1\" class=\"dataframe\">\n",
       "  <thead>\n",
       "    <tr style=\"text-align: right;\">\n",
       "      <th></th>\n",
       "      <th>artist_id</th>\n",
       "      <th>artist_name</th>\n",
       "      <th>artist_location</th>\n",
       "      <th>artist_latitude</th>\n",
       "      <th>artist_longitude</th>\n",
       "    </tr>\n",
       "  </thead>\n",
       "  <tbody>\n",
       "    <tr>\n",
       "      <th>0</th>\n",
       "      <td>ARGSJW91187B9B1D6B</td>\n",
       "      <td>JennyAnyKind</td>\n",
       "      <td>North Carolina</td>\n",
       "      <td>35.21962</td>\n",
       "      <td>-80.01955</td>\n",
       "    </tr>\n",
       "  </tbody>\n",
       "</table>\n",
       "</div>"
      ],
      "text/plain": [
       "            artist_id   artist_name artist_location  artist_latitude  \\\n",
       "0  ARGSJW91187B9B1D6B  JennyAnyKind  North Carolina         35.21962   \n",
       "\n",
       "   artist_longitude  \n",
       "0         -80.01955  "
      ]
     },
     "execution_count": 11,
     "metadata": {},
     "output_type": "execute_result"
    }
   ],
   "source": [
    "df_a=df[['artist_id','artist_name','artist_location','artist_latitude','artist_longitude']].copy()\n",
    "df_a"
   ]
  },
  {
   "cell_type": "code",
   "execution_count": 12,
   "metadata": {},
   "outputs": [
    {
     "data": {
      "text/plain": [
       "['ARGSJW91187B9B1D6B', 'JennyAnyKind', 'North Carolina', 35.21962, -80.01955]"
      ]
     },
     "execution_count": 12,
     "metadata": {},
     "output_type": "execute_result"
    }
   ],
   "source": [
    "artist_data = df_a.values.flatten().tolist() \n",
    "artist_data"
   ]
  },
  {
   "cell_type": "markdown",
   "metadata": {},
   "source": [
    "#### Insert Record into Artist Table\n",
    "Implement the `artist_table_insert` query in `sql_queries.py` and run the cell below to insert a record for this song's artist into the `artists` table. Remember to run `create_tables.py` before running the cell below to ensure you've created/resetted the `artists` table in the sparkify database."
   ]
  },
  {
   "cell_type": "code",
   "execution_count": 13,
   "metadata": {},
   "outputs": [],
   "source": [
    "cur.execute(artist_table_insert, artist_data)\n",
    "conn.commit()"
   ]
  },
  {
   "cell_type": "markdown",
   "metadata": {},
   "source": [
    "Run `test.ipynb` to see if you've successfully added a record to this table."
   ]
  },
  {
   "cell_type": "markdown",
   "metadata": {},
   "source": [
    "# Process `log_data`\n",
    "In this part, you'll perform ETL on the second dataset, `log_data`, to create the `time` and `users` dimensional tables, as well as the `songplays` fact table.\n",
    "\n",
    "Let's perform ETL on a single log file and load a single record into each table.\n",
    "- Use the `get_files` function provided above to get a list of all log JSON files in `data/log_data`\n",
    "- Select the first log file in this list\n",
    "- Read the log file and view the data"
   ]
  },
  {
   "cell_type": "code",
   "execution_count": 14,
   "metadata": {},
   "outputs": [],
   "source": [
    "filepath = '/home/workspace/data/log_data'"
   ]
  },
  {
   "cell_type": "code",
   "execution_count": 15,
   "metadata": {},
   "outputs": [],
   "source": [
    "log_files = get_files(filepath)"
   ]
  },
  {
   "cell_type": "code",
   "execution_count": 16,
   "metadata": {},
   "outputs": [
    {
     "data": {
      "text/plain": [
       "['/home/workspace/data/log_data/2018/11/2018-11-19-events.json',\n",
       " '/home/workspace/data/log_data/2018/11/2018-11-06-events.json',\n",
       " '/home/workspace/data/log_data/2018/11/2018-11-24-events.json',\n",
       " '/home/workspace/data/log_data/2018/11/2018-11-12-events.json',\n",
       " '/home/workspace/data/log_data/2018/11/2018-11-09-events.json',\n",
       " '/home/workspace/data/log_data/2018/11/2018-11-21-events.json',\n",
       " '/home/workspace/data/log_data/2018/11/2018-11-03-events.json',\n",
       " '/home/workspace/data/log_data/2018/11/2018-11-17-events.json',\n",
       " '/home/workspace/data/log_data/2018/11/2018-11-08-events.json',\n",
       " '/home/workspace/data/log_data/2018/11/2018-11-30-events.json',\n",
       " '/home/workspace/data/log_data/2018/11/2018-11-28-events.json',\n",
       " '/home/workspace/data/log_data/2018/11/2018-11-20-events.json',\n",
       " '/home/workspace/data/log_data/2018/11/2018-11-04-events.json',\n",
       " '/home/workspace/data/log_data/2018/11/2018-11-07-events.json',\n",
       " '/home/workspace/data/log_data/2018/11/2018-11-22-events.json',\n",
       " '/home/workspace/data/log_data/2018/11/2018-11-02-events.json',\n",
       " '/home/workspace/data/log_data/2018/11/2018-11-18-events.json',\n",
       " '/home/workspace/data/log_data/2018/11/2018-11-05-events.json',\n",
       " '/home/workspace/data/log_data/2018/11/2018-11-27-events.json',\n",
       " '/home/workspace/data/log_data/2018/11/2018-11-14-events.json',\n",
       " '/home/workspace/data/log_data/2018/11/2018-11-15-events.json',\n",
       " '/home/workspace/data/log_data/2018/11/2018-11-01-events.json',\n",
       " '/home/workspace/data/log_data/2018/11/2018-11-11-events.json',\n",
       " '/home/workspace/data/log_data/2018/11/2018-11-23-events.json',\n",
       " '/home/workspace/data/log_data/2018/11/2018-11-29-events.json',\n",
       " '/home/workspace/data/log_data/2018/11/2018-11-13-events.json',\n",
       " '/home/workspace/data/log_data/2018/11/2018-11-10-events.json',\n",
       " '/home/workspace/data/log_data/2018/11/2018-11-25-events.json',\n",
       " '/home/workspace/data/log_data/2018/11/2018-11-26-events.json',\n",
       " '/home/workspace/data/log_data/2018/11/2018-11-16-events.json']"
      ]
     },
     "execution_count": 16,
     "metadata": {},
     "output_type": "execute_result"
    }
   ],
   "source": [
    "log_files"
   ]
  },
  {
   "cell_type": "code",
   "execution_count": 17,
   "metadata": {},
   "outputs": [
    {
     "data": {
      "text/html": [
       "<div>\n",
       "<style scoped>\n",
       "    .dataframe tbody tr th:only-of-type {\n",
       "        vertical-align: middle;\n",
       "    }\n",
       "\n",
       "    .dataframe tbody tr th {\n",
       "        vertical-align: top;\n",
       "    }\n",
       "\n",
       "    .dataframe thead th {\n",
       "        text-align: right;\n",
       "    }\n",
       "</style>\n",
       "<table border=\"1\" class=\"dataframe\">\n",
       "  <thead>\n",
       "    <tr style=\"text-align: right;\">\n",
       "      <th></th>\n",
       "      <th>artist</th>\n",
       "      <th>auth</th>\n",
       "      <th>firstName</th>\n",
       "      <th>gender</th>\n",
       "      <th>itemInSession</th>\n",
       "      <th>lastName</th>\n",
       "      <th>length</th>\n",
       "      <th>level</th>\n",
       "      <th>location</th>\n",
       "      <th>method</th>\n",
       "      <th>page</th>\n",
       "      <th>registration</th>\n",
       "      <th>sessionId</th>\n",
       "      <th>song</th>\n",
       "      <th>status</th>\n",
       "      <th>ts</th>\n",
       "      <th>userAgent</th>\n",
       "      <th>userId</th>\n",
       "    </tr>\n",
       "  </thead>\n",
       "  <tbody>\n",
       "    <tr>\n",
       "      <th>0</th>\n",
       "      <td>None</td>\n",
       "      <td>Logged In</td>\n",
       "      <td>Lily</td>\n",
       "      <td>F</td>\n",
       "      <td>0</td>\n",
       "      <td>Burns</td>\n",
       "      <td>NaN</td>\n",
       "      <td>free</td>\n",
       "      <td>New York-Newark-Jersey City, NY-NJ-PA</td>\n",
       "      <td>GET</td>\n",
       "      <td>Home</td>\n",
       "      <td>1.540621e+12</td>\n",
       "      <td>689</td>\n",
       "      <td>None</td>\n",
       "      <td>200</td>\n",
       "      <td>1542592468796</td>\n",
       "      <td>\"Mozilla/5.0 (Windows NT 6.1; WOW64) AppleWebK...</td>\n",
       "      <td>32</td>\n",
       "    </tr>\n",
       "    <tr>\n",
       "      <th>1</th>\n",
       "      <td>Explosions In The Sky</td>\n",
       "      <td>Logged In</td>\n",
       "      <td>Adelyn</td>\n",
       "      <td>F</td>\n",
       "      <td>0</td>\n",
       "      <td>Jordan</td>\n",
       "      <td>497.47546</td>\n",
       "      <td>free</td>\n",
       "      <td>Chicago-Naperville-Elgin, IL-IN-WI</td>\n",
       "      <td>PUT</td>\n",
       "      <td>NextSong</td>\n",
       "      <td>1.540131e+12</td>\n",
       "      <td>458</td>\n",
       "      <td>Your Hand In Mine</td>\n",
       "      <td>200</td>\n",
       "      <td>1542592496796</td>\n",
       "      <td>\"Mozilla/5.0 (Macintosh; Intel Mac OS X 10_9_3...</td>\n",
       "      <td>7</td>\n",
       "    </tr>\n",
       "    <tr>\n",
       "      <th>2</th>\n",
       "      <td>None</td>\n",
       "      <td>Logged In</td>\n",
       "      <td>Adelyn</td>\n",
       "      <td>F</td>\n",
       "      <td>1</td>\n",
       "      <td>Jordan</td>\n",
       "      <td>NaN</td>\n",
       "      <td>free</td>\n",
       "      <td>Chicago-Naperville-Elgin, IL-IN-WI</td>\n",
       "      <td>PUT</td>\n",
       "      <td>Logout</td>\n",
       "      <td>1.540131e+12</td>\n",
       "      <td>458</td>\n",
       "      <td>None</td>\n",
       "      <td>307</td>\n",
       "      <td>1542592497796</td>\n",
       "      <td>\"Mozilla/5.0 (Macintosh; Intel Mac OS X 10_9_3...</td>\n",
       "      <td>7</td>\n",
       "    </tr>\n",
       "    <tr>\n",
       "      <th>3</th>\n",
       "      <td>None</td>\n",
       "      <td>Logged Out</td>\n",
       "      <td>None</td>\n",
       "      <td>None</td>\n",
       "      <td>2</td>\n",
       "      <td>None</td>\n",
       "      <td>NaN</td>\n",
       "      <td>free</td>\n",
       "      <td>None</td>\n",
       "      <td>GET</td>\n",
       "      <td>Home</td>\n",
       "      <td>NaN</td>\n",
       "      <td>458</td>\n",
       "      <td>None</td>\n",
       "      <td>200</td>\n",
       "      <td>1542592500796</td>\n",
       "      <td>None</td>\n",
       "      <td></td>\n",
       "    </tr>\n",
       "    <tr>\n",
       "      <th>4</th>\n",
       "      <td>None</td>\n",
       "      <td>Logged Out</td>\n",
       "      <td>None</td>\n",
       "      <td>None</td>\n",
       "      <td>3</td>\n",
       "      <td>None</td>\n",
       "      <td>NaN</td>\n",
       "      <td>free</td>\n",
       "      <td>None</td>\n",
       "      <td>PUT</td>\n",
       "      <td>Login</td>\n",
       "      <td>NaN</td>\n",
       "      <td>458</td>\n",
       "      <td>None</td>\n",
       "      <td>307</td>\n",
       "      <td>1542592501796</td>\n",
       "      <td>None</td>\n",
       "      <td></td>\n",
       "    </tr>\n",
       "  </tbody>\n",
       "</table>\n",
       "</div>"
      ],
      "text/plain": [
       "                  artist        auth firstName gender  itemInSession lastName  \\\n",
       "0                   None   Logged In      Lily      F              0    Burns   \n",
       "1  Explosions In The Sky   Logged In    Adelyn      F              0   Jordan   \n",
       "2                   None   Logged In    Adelyn      F              1   Jordan   \n",
       "3                   None  Logged Out      None   None              2     None   \n",
       "4                   None  Logged Out      None   None              3     None   \n",
       "\n",
       "      length level                               location method      page  \\\n",
       "0        NaN  free  New York-Newark-Jersey City, NY-NJ-PA    GET      Home   \n",
       "1  497.47546  free     Chicago-Naperville-Elgin, IL-IN-WI    PUT  NextSong   \n",
       "2        NaN  free     Chicago-Naperville-Elgin, IL-IN-WI    PUT    Logout   \n",
       "3        NaN  free                                   None    GET      Home   \n",
       "4        NaN  free                                   None    PUT     Login   \n",
       "\n",
       "   registration  sessionId               song  status             ts  \\\n",
       "0  1.540621e+12        689               None     200  1542592468796   \n",
       "1  1.540131e+12        458  Your Hand In Mine     200  1542592496796   \n",
       "2  1.540131e+12        458               None     307  1542592497796   \n",
       "3           NaN        458               None     200  1542592500796   \n",
       "4           NaN        458               None     307  1542592501796   \n",
       "\n",
       "                                           userAgent userId  \n",
       "0  \"Mozilla/5.0 (Windows NT 6.1; WOW64) AppleWebK...     32  \n",
       "1  \"Mozilla/5.0 (Macintosh; Intel Mac OS X 10_9_3...      7  \n",
       "2  \"Mozilla/5.0 (Macintosh; Intel Mac OS X 10_9_3...      7  \n",
       "3                                               None         \n",
       "4                                               None         "
      ]
     },
     "execution_count": 17,
     "metadata": {},
     "output_type": "execute_result"
    }
   ],
   "source": [
    "df = pd.read_json(log_files[0], lines=True)\n",
    "df.head()"
   ]
  },
  {
   "cell_type": "markdown",
   "metadata": {},
   "source": [
    "## #3: `time` Table\n",
    "#### Extract Data for Time Table\n",
    "- Filter records by `NextSong` action\n",
    "- Convert the `ts` timestamp column to datetime\n",
    "  - Hint: the current timestamp is in milliseconds\n",
    "- Extract the timestamp, hour, day, week of year, month, year, and weekday from the `ts` column and set `time_data` to a list containing these values in order\n",
    "  - Hint: use pandas' [`dt` attribute](https://pandas.pydata.org/pandas-docs/stable/reference/api/pandas.Series.dt.html) to access easily datetimelike properties.\n",
    "- Specify labels for these columns and set to `column_labels`\n",
    "- Create a dataframe, `time_df,` containing the time data for this file by combining `column_labels` and `time_data` into a dictionary and converting this into a dataframe"
   ]
  },
  {
   "cell_type": "code",
   "execution_count": 18,
   "metadata": {},
   "outputs": [
    {
     "data": {
      "text/html": [
       "<div>\n",
       "<style scoped>\n",
       "    .dataframe tbody tr th:only-of-type {\n",
       "        vertical-align: middle;\n",
       "    }\n",
       "\n",
       "    .dataframe tbody tr th {\n",
       "        vertical-align: top;\n",
       "    }\n",
       "\n",
       "    .dataframe thead th {\n",
       "        text-align: right;\n",
       "    }\n",
       "</style>\n",
       "<table border=\"1\" class=\"dataframe\">\n",
       "  <thead>\n",
       "    <tr style=\"text-align: right;\">\n",
       "      <th></th>\n",
       "      <th>artist</th>\n",
       "      <th>auth</th>\n",
       "      <th>firstName</th>\n",
       "      <th>gender</th>\n",
       "      <th>itemInSession</th>\n",
       "      <th>lastName</th>\n",
       "      <th>length</th>\n",
       "      <th>level</th>\n",
       "      <th>location</th>\n",
       "      <th>method</th>\n",
       "      <th>page</th>\n",
       "      <th>registration</th>\n",
       "      <th>sessionId</th>\n",
       "      <th>song</th>\n",
       "      <th>status</th>\n",
       "      <th>ts</th>\n",
       "      <th>userAgent</th>\n",
       "      <th>userId</th>\n",
       "    </tr>\n",
       "  </thead>\n",
       "  <tbody>\n",
       "    <tr>\n",
       "      <th>1</th>\n",
       "      <td>Explosions In The Sky</td>\n",
       "      <td>Logged In</td>\n",
       "      <td>Adelyn</td>\n",
       "      <td>F</td>\n",
       "      <td>0</td>\n",
       "      <td>Jordan</td>\n",
       "      <td>497.47546</td>\n",
       "      <td>free</td>\n",
       "      <td>Chicago-Naperville-Elgin, IL-IN-WI</td>\n",
       "      <td>PUT</td>\n",
       "      <td>NextSong</td>\n",
       "      <td>1.540131e+12</td>\n",
       "      <td>458</td>\n",
       "      <td>Your Hand In Mine</td>\n",
       "      <td>200</td>\n",
       "      <td>1542592496796</td>\n",
       "      <td>\"Mozilla/5.0 (Macintosh; Intel Mac OS X 10_9_3...</td>\n",
       "      <td>7</td>\n",
       "    </tr>\n",
       "    <tr>\n",
       "      <th>6</th>\n",
       "      <td>Paul Van Dyk Featuring Jessica Sutta</td>\n",
       "      <td>Logged In</td>\n",
       "      <td>Layla</td>\n",
       "      <td>F</td>\n",
       "      <td>0</td>\n",
       "      <td>Griffin</td>\n",
       "      <td>425.66485</td>\n",
       "      <td>paid</td>\n",
       "      <td>Lake Havasu City-Kingman, AZ</td>\n",
       "      <td>PUT</td>\n",
       "      <td>NextSong</td>\n",
       "      <td>1.541057e+12</td>\n",
       "      <td>672</td>\n",
       "      <td>White Lies (Dave Spoon Remix)</td>\n",
       "      <td>200</td>\n",
       "      <td>1542592893796</td>\n",
       "      <td>\"Mozilla/5.0 (Windows NT 6.1; WOW64) AppleWebK...</td>\n",
       "      <td>24</td>\n",
       "    </tr>\n",
       "    <tr>\n",
       "      <th>7</th>\n",
       "      <td>Tim Hughes</td>\n",
       "      <td>Logged In</td>\n",
       "      <td>Layla</td>\n",
       "      <td>F</td>\n",
       "      <td>1</td>\n",
       "      <td>Griffin</td>\n",
       "      <td>323.47383</td>\n",
       "      <td>paid</td>\n",
       "      <td>Lake Havasu City-Kingman, AZ</td>\n",
       "      <td>PUT</td>\n",
       "      <td>NextSong</td>\n",
       "      <td>1.541057e+12</td>\n",
       "      <td>672</td>\n",
       "      <td>God of Justice</td>\n",
       "      <td>200</td>\n",
       "      <td>1542593318796</td>\n",
       "      <td>\"Mozilla/5.0 (Windows NT 6.1; WOW64) AppleWebK...</td>\n",
       "      <td>24</td>\n",
       "    </tr>\n",
       "    <tr>\n",
       "      <th>8</th>\n",
       "      <td>David Cassidy &amp; The Partridge Family</td>\n",
       "      <td>Logged In</td>\n",
       "      <td>Layla</td>\n",
       "      <td>F</td>\n",
       "      <td>2</td>\n",
       "      <td>Griffin</td>\n",
       "      <td>227.73506</td>\n",
       "      <td>paid</td>\n",
       "      <td>Lake Havasu City-Kingman, AZ</td>\n",
       "      <td>PUT</td>\n",
       "      <td>NextSong</td>\n",
       "      <td>1.541057e+12</td>\n",
       "      <td>672</td>\n",
       "      <td>I'll Meet You Halfway</td>\n",
       "      <td>200</td>\n",
       "      <td>1542593641796</td>\n",
       "      <td>\"Mozilla/5.0 (Windows NT 6.1; WOW64) AppleWebK...</td>\n",
       "      <td>24</td>\n",
       "    </tr>\n",
       "    <tr>\n",
       "      <th>9</th>\n",
       "      <td>Snow Patrol</td>\n",
       "      <td>Logged In</td>\n",
       "      <td>Layla</td>\n",
       "      <td>F</td>\n",
       "      <td>3</td>\n",
       "      <td>Griffin</td>\n",
       "      <td>200.93342</td>\n",
       "      <td>paid</td>\n",
       "      <td>Lake Havasu City-Kingman, AZ</td>\n",
       "      <td>PUT</td>\n",
       "      <td>NextSong</td>\n",
       "      <td>1.541057e+12</td>\n",
       "      <td>672</td>\n",
       "      <td>Crack The Shutters</td>\n",
       "      <td>200</td>\n",
       "      <td>1542593868796</td>\n",
       "      <td>\"Mozilla/5.0 (Windows NT 6.1; WOW64) AppleWebK...</td>\n",
       "      <td>24</td>\n",
       "    </tr>\n",
       "  </tbody>\n",
       "</table>\n",
       "</div>"
      ],
      "text/plain": [
       "                                 artist       auth firstName gender  \\\n",
       "1                 Explosions In The Sky  Logged In    Adelyn      F   \n",
       "6  Paul Van Dyk Featuring Jessica Sutta  Logged In     Layla      F   \n",
       "7                            Tim Hughes  Logged In     Layla      F   \n",
       "8  David Cassidy & The Partridge Family  Logged In     Layla      F   \n",
       "9                           Snow Patrol  Logged In     Layla      F   \n",
       "\n",
       "   itemInSession lastName     length level  \\\n",
       "1              0   Jordan  497.47546  free   \n",
       "6              0  Griffin  425.66485  paid   \n",
       "7              1  Griffin  323.47383  paid   \n",
       "8              2  Griffin  227.73506  paid   \n",
       "9              3  Griffin  200.93342  paid   \n",
       "\n",
       "                             location method      page  registration  \\\n",
       "1  Chicago-Naperville-Elgin, IL-IN-WI    PUT  NextSong  1.540131e+12   \n",
       "6        Lake Havasu City-Kingman, AZ    PUT  NextSong  1.541057e+12   \n",
       "7        Lake Havasu City-Kingman, AZ    PUT  NextSong  1.541057e+12   \n",
       "8        Lake Havasu City-Kingman, AZ    PUT  NextSong  1.541057e+12   \n",
       "9        Lake Havasu City-Kingman, AZ    PUT  NextSong  1.541057e+12   \n",
       "\n",
       "   sessionId                           song  status             ts  \\\n",
       "1        458              Your Hand In Mine     200  1542592496796   \n",
       "6        672  White Lies (Dave Spoon Remix)     200  1542592893796   \n",
       "7        672                 God of Justice     200  1542593318796   \n",
       "8        672          I'll Meet You Halfway     200  1542593641796   \n",
       "9        672             Crack The Shutters     200  1542593868796   \n",
       "\n",
       "                                           userAgent userId  \n",
       "1  \"Mozilla/5.0 (Macintosh; Intel Mac OS X 10_9_3...      7  \n",
       "6  \"Mozilla/5.0 (Windows NT 6.1; WOW64) AppleWebK...     24  \n",
       "7  \"Mozilla/5.0 (Windows NT 6.1; WOW64) AppleWebK...     24  \n",
       "8  \"Mozilla/5.0 (Windows NT 6.1; WOW64) AppleWebK...     24  \n",
       "9  \"Mozilla/5.0 (Windows NT 6.1; WOW64) AppleWebK...     24  "
      ]
     },
     "execution_count": 18,
     "metadata": {},
     "output_type": "execute_result"
    }
   ],
   "source": [
    "df = df.query('page==\"NextSong\"')\n",
    "df.head()"
   ]
  },
  {
   "cell_type": "code",
   "execution_count": 19,
   "metadata": {},
   "outputs": [
    {
     "data": {
      "text/html": [
       "<div>\n",
       "<style scoped>\n",
       "    .dataframe tbody tr th:only-of-type {\n",
       "        vertical-align: middle;\n",
       "    }\n",
       "\n",
       "    .dataframe tbody tr th {\n",
       "        vertical-align: top;\n",
       "    }\n",
       "\n",
       "    .dataframe thead th {\n",
       "        text-align: right;\n",
       "    }\n",
       "</style>\n",
       "<table border=\"1\" class=\"dataframe\">\n",
       "  <thead>\n",
       "    <tr style=\"text-align: right;\">\n",
       "      <th></th>\n",
       "      <th>ts</th>\n",
       "    </tr>\n",
       "  </thead>\n",
       "  <tbody>\n",
       "    <tr>\n",
       "      <th>1</th>\n",
       "      <td>1542592496796</td>\n",
       "    </tr>\n",
       "    <tr>\n",
       "      <th>6</th>\n",
       "      <td>1542592893796</td>\n",
       "    </tr>\n",
       "    <tr>\n",
       "      <th>7</th>\n",
       "      <td>1542593318796</td>\n",
       "    </tr>\n",
       "    <tr>\n",
       "      <th>8</th>\n",
       "      <td>1542593641796</td>\n",
       "    </tr>\n",
       "    <tr>\n",
       "      <th>9</th>\n",
       "      <td>1542593868796</td>\n",
       "    </tr>\n",
       "  </tbody>\n",
       "</table>\n",
       "</div>"
      ],
      "text/plain": [
       "              ts\n",
       "1  1542592496796\n",
       "6  1542592893796\n",
       "7  1542593318796\n",
       "8  1542593641796\n",
       "9  1542593868796"
      ]
     },
     "execution_count": 19,
     "metadata": {},
     "output_type": "execute_result"
    }
   ],
   "source": [
    "t = df[['ts']].copy()\n",
    "t.head()"
   ]
  },
  {
   "cell_type": "code",
   "execution_count": 20,
   "metadata": {},
   "outputs": [
    {
     "data": {
      "text/html": [
       "<div>\n",
       "<style scoped>\n",
       "    .dataframe tbody tr th:only-of-type {\n",
       "        vertical-align: middle;\n",
       "    }\n",
       "\n",
       "    .dataframe tbody tr th {\n",
       "        vertical-align: top;\n",
       "    }\n",
       "\n",
       "    .dataframe thead th {\n",
       "        text-align: right;\n",
       "    }\n",
       "</style>\n",
       "<table border=\"1\" class=\"dataframe\">\n",
       "  <thead>\n",
       "    <tr style=\"text-align: right;\">\n",
       "      <th></th>\n",
       "      <th>ts</th>\n",
       "      <th>time</th>\n",
       "    </tr>\n",
       "  </thead>\n",
       "  <tbody>\n",
       "    <tr>\n",
       "      <th>1</th>\n",
       "      <td>1542592496796</td>\n",
       "      <td>2018-11-19 01:54:56.796</td>\n",
       "    </tr>\n",
       "    <tr>\n",
       "      <th>6</th>\n",
       "      <td>1542592893796</td>\n",
       "      <td>2018-11-19 02:01:33.796</td>\n",
       "    </tr>\n",
       "    <tr>\n",
       "      <th>7</th>\n",
       "      <td>1542593318796</td>\n",
       "      <td>2018-11-19 02:08:38.796</td>\n",
       "    </tr>\n",
       "    <tr>\n",
       "      <th>8</th>\n",
       "      <td>1542593641796</td>\n",
       "      <td>2018-11-19 02:14:01.796</td>\n",
       "    </tr>\n",
       "    <tr>\n",
       "      <th>9</th>\n",
       "      <td>1542593868796</td>\n",
       "      <td>2018-11-19 02:17:48.796</td>\n",
       "    </tr>\n",
       "  </tbody>\n",
       "</table>\n",
       "</div>"
      ],
      "text/plain": [
       "              ts                    time\n",
       "1  1542592496796 2018-11-19 01:54:56.796\n",
       "6  1542592893796 2018-11-19 02:01:33.796\n",
       "7  1542593318796 2018-11-19 02:08:38.796\n",
       "8  1542593641796 2018-11-19 02:14:01.796\n",
       "9  1542593868796 2018-11-19 02:17:48.796"
      ]
     },
     "execution_count": 20,
     "metadata": {},
     "output_type": "execute_result"
    }
   ],
   "source": [
    "t['time'] = pd.to_datetime(t['ts'],unit='ms')\n",
    "t.head()"
   ]
  },
  {
   "cell_type": "code",
   "execution_count": 21,
   "metadata": {},
   "outputs": [
    {
     "data": {
      "text/html": [
       "<div>\n",
       "<style scoped>\n",
       "    .dataframe tbody tr th:only-of-type {\n",
       "        vertical-align: middle;\n",
       "    }\n",
       "\n",
       "    .dataframe tbody tr th {\n",
       "        vertical-align: top;\n",
       "    }\n",
       "\n",
       "    .dataframe thead th {\n",
       "        text-align: right;\n",
       "    }\n",
       "</style>\n",
       "<table border=\"1\" class=\"dataframe\">\n",
       "  <thead>\n",
       "    <tr style=\"text-align: right;\">\n",
       "      <th></th>\n",
       "      <th>ts</th>\n",
       "      <th>time</th>\n",
       "      <th>year</th>\n",
       "    </tr>\n",
       "  </thead>\n",
       "  <tbody>\n",
       "    <tr>\n",
       "      <th>1</th>\n",
       "      <td>1542592496796</td>\n",
       "      <td>2018-11-19 01:54:56.796</td>\n",
       "      <td>2018</td>\n",
       "    </tr>\n",
       "    <tr>\n",
       "      <th>6</th>\n",
       "      <td>1542592893796</td>\n",
       "      <td>2018-11-19 02:01:33.796</td>\n",
       "      <td>2018</td>\n",
       "    </tr>\n",
       "    <tr>\n",
       "      <th>7</th>\n",
       "      <td>1542593318796</td>\n",
       "      <td>2018-11-19 02:08:38.796</td>\n",
       "      <td>2018</td>\n",
       "    </tr>\n",
       "    <tr>\n",
       "      <th>8</th>\n",
       "      <td>1542593641796</td>\n",
       "      <td>2018-11-19 02:14:01.796</td>\n",
       "      <td>2018</td>\n",
       "    </tr>\n",
       "    <tr>\n",
       "      <th>9</th>\n",
       "      <td>1542593868796</td>\n",
       "      <td>2018-11-19 02:17:48.796</td>\n",
       "      <td>2018</td>\n",
       "    </tr>\n",
       "  </tbody>\n",
       "</table>\n",
       "</div>"
      ],
      "text/plain": [
       "              ts                    time  year\n",
       "1  1542592496796 2018-11-19 01:54:56.796  2018\n",
       "6  1542592893796 2018-11-19 02:01:33.796  2018\n",
       "7  1542593318796 2018-11-19 02:08:38.796  2018\n",
       "8  1542593641796 2018-11-19 02:14:01.796  2018\n",
       "9  1542593868796 2018-11-19 02:17:48.796  2018"
      ]
     },
     "execution_count": 21,
     "metadata": {},
     "output_type": "execute_result"
    }
   ],
   "source": [
    "t['year']=t['time'].dt.year\n",
    "t.head()"
   ]
  },
  {
   "cell_type": "code",
   "execution_count": 22,
   "metadata": {},
   "outputs": [
    {
     "data": {
      "text/html": [
       "<div>\n",
       "<style scoped>\n",
       "    .dataframe tbody tr th:only-of-type {\n",
       "        vertical-align: middle;\n",
       "    }\n",
       "\n",
       "    .dataframe tbody tr th {\n",
       "        vertical-align: top;\n",
       "    }\n",
       "\n",
       "    .dataframe thead th {\n",
       "        text-align: right;\n",
       "    }\n",
       "</style>\n",
       "<table border=\"1\" class=\"dataframe\">\n",
       "  <thead>\n",
       "    <tr style=\"text-align: right;\">\n",
       "      <th></th>\n",
       "      <th>timestamp</th>\n",
       "      <th>hour</th>\n",
       "      <th>day</th>\n",
       "      <th>week_of_year</th>\n",
       "      <th>month</th>\n",
       "      <th>year</th>\n",
       "      <th>weekday</th>\n",
       "    </tr>\n",
       "  </thead>\n",
       "  <tbody>\n",
       "    <tr>\n",
       "      <th>1</th>\n",
       "      <td>1542592496796</td>\n",
       "      <td>1</td>\n",
       "      <td>19</td>\n",
       "      <td>47</td>\n",
       "      <td>11</td>\n",
       "      <td>2018</td>\n",
       "      <td>0</td>\n",
       "    </tr>\n",
       "    <tr>\n",
       "      <th>6</th>\n",
       "      <td>1542592893796</td>\n",
       "      <td>2</td>\n",
       "      <td>19</td>\n",
       "      <td>47</td>\n",
       "      <td>11</td>\n",
       "      <td>2018</td>\n",
       "      <td>0</td>\n",
       "    </tr>\n",
       "    <tr>\n",
       "      <th>7</th>\n",
       "      <td>1542593318796</td>\n",
       "      <td>2</td>\n",
       "      <td>19</td>\n",
       "      <td>47</td>\n",
       "      <td>11</td>\n",
       "      <td>2018</td>\n",
       "      <td>0</td>\n",
       "    </tr>\n",
       "    <tr>\n",
       "      <th>8</th>\n",
       "      <td>1542593641796</td>\n",
       "      <td>2</td>\n",
       "      <td>19</td>\n",
       "      <td>47</td>\n",
       "      <td>11</td>\n",
       "      <td>2018</td>\n",
       "      <td>0</td>\n",
       "    </tr>\n",
       "    <tr>\n",
       "      <th>9</th>\n",
       "      <td>1542593868796</td>\n",
       "      <td>2</td>\n",
       "      <td>19</td>\n",
       "      <td>47</td>\n",
       "      <td>11</td>\n",
       "      <td>2018</td>\n",
       "      <td>0</td>\n",
       "    </tr>\n",
       "  </tbody>\n",
       "</table>\n",
       "</div>"
      ],
      "text/plain": [
       "       timestamp  hour  day  week_of_year  month  year  weekday\n",
       "1  1542592496796     1   19            47     11  2018        0\n",
       "6  1542592893796     2   19            47     11  2018        0\n",
       "7  1542593318796     2   19            47     11  2018        0\n",
       "8  1542593641796     2   19            47     11  2018        0\n",
       "9  1542593868796     2   19            47     11  2018        0"
      ]
     },
     "execution_count": 22,
     "metadata": {},
     "output_type": "execute_result"
    }
   ],
   "source": [
    "#Extract the timestamp, hour, day, week of year, month, year, and weekday from the ts column and set time_data\n",
    "#to a list containing these values in order\n",
    "time_formated=df[['ts']].copy()\n",
    "time_formated['hour']=t['time'].dt.hour\n",
    "time_formated['day']=t['time'].dt.day\n",
    "time_formated['week_of_year']=t['time'].dt.weekofyear\n",
    "time_formated['month']=t['time'].dt.month\n",
    "time_formated['year']=t['time'].dt.year\n",
    "time_formated['weekday']=t['time'].dt.weekday\n",
    "time_formated.rename(columns={'ts':'timestamp'},inplace=True)\n",
    "time_formated.head()"
   ]
  },
  {
   "cell_type": "code",
   "execution_count": 23,
   "metadata": {},
   "outputs": [],
   "source": [
    "#time_data = ()\n",
    "#column_labels = ()"
   ]
  },
  {
   "cell_type": "code",
   "execution_count": 24,
   "metadata": {},
   "outputs": [
    {
     "data": {
      "text/html": [
       "<div>\n",
       "<style scoped>\n",
       "    .dataframe tbody tr th:only-of-type {\n",
       "        vertical-align: middle;\n",
       "    }\n",
       "\n",
       "    .dataframe tbody tr th {\n",
       "        vertical-align: top;\n",
       "    }\n",
       "\n",
       "    .dataframe thead th {\n",
       "        text-align: right;\n",
       "    }\n",
       "</style>\n",
       "<table border=\"1\" class=\"dataframe\">\n",
       "  <thead>\n",
       "    <tr style=\"text-align: right;\">\n",
       "      <th></th>\n",
       "      <th>timestamp</th>\n",
       "      <th>hour</th>\n",
       "      <th>day</th>\n",
       "      <th>week_of_year</th>\n",
       "      <th>month</th>\n",
       "      <th>year</th>\n",
       "      <th>weekday</th>\n",
       "    </tr>\n",
       "  </thead>\n",
       "  <tbody>\n",
       "    <tr>\n",
       "      <th>1</th>\n",
       "      <td>1542592496796</td>\n",
       "      <td>1</td>\n",
       "      <td>19</td>\n",
       "      <td>47</td>\n",
       "      <td>11</td>\n",
       "      <td>2018</td>\n",
       "      <td>0</td>\n",
       "    </tr>\n",
       "    <tr>\n",
       "      <th>6</th>\n",
       "      <td>1542592893796</td>\n",
       "      <td>2</td>\n",
       "      <td>19</td>\n",
       "      <td>47</td>\n",
       "      <td>11</td>\n",
       "      <td>2018</td>\n",
       "      <td>0</td>\n",
       "    </tr>\n",
       "    <tr>\n",
       "      <th>7</th>\n",
       "      <td>1542593318796</td>\n",
       "      <td>2</td>\n",
       "      <td>19</td>\n",
       "      <td>47</td>\n",
       "      <td>11</td>\n",
       "      <td>2018</td>\n",
       "      <td>0</td>\n",
       "    </tr>\n",
       "    <tr>\n",
       "      <th>8</th>\n",
       "      <td>1542593641796</td>\n",
       "      <td>2</td>\n",
       "      <td>19</td>\n",
       "      <td>47</td>\n",
       "      <td>11</td>\n",
       "      <td>2018</td>\n",
       "      <td>0</td>\n",
       "    </tr>\n",
       "    <tr>\n",
       "      <th>9</th>\n",
       "      <td>1542593868796</td>\n",
       "      <td>2</td>\n",
       "      <td>19</td>\n",
       "      <td>47</td>\n",
       "      <td>11</td>\n",
       "      <td>2018</td>\n",
       "      <td>0</td>\n",
       "    </tr>\n",
       "  </tbody>\n",
       "</table>\n",
       "</div>"
      ],
      "text/plain": [
       "       timestamp  hour  day  week_of_year  month  year  weekday\n",
       "1  1542592496796     1   19            47     11  2018        0\n",
       "6  1542592893796     2   19            47     11  2018        0\n",
       "7  1542593318796     2   19            47     11  2018        0\n",
       "8  1542593641796     2   19            47     11  2018        0\n",
       "9  1542593868796     2   19            47     11  2018        0"
      ]
     },
     "execution_count": 24,
     "metadata": {},
     "output_type": "execute_result"
    }
   ],
   "source": [
    "time_df = time_formated.copy()\n",
    "time_df.head()"
   ]
  },
  {
   "cell_type": "markdown",
   "metadata": {},
   "source": [
    "#### Insert Records into Time Table\n",
    "Implement the `time_table_insert` query in `sql_queries.py` and run the cell below to insert records for the timestamps in this log file into the `time` table. Remember to run `create_tables.py` before running the cell below to ensure you've created/resetted the `time` table in the sparkify database."
   ]
  },
  {
   "cell_type": "code",
   "execution_count": 25,
   "metadata": {},
   "outputs": [],
   "source": [
    "for i, row in time_df.iterrows():\n",
    "    cur.execute(time_table_insert, list(row))\n",
    "    conn.commit()"
   ]
  },
  {
   "cell_type": "markdown",
   "metadata": {},
   "source": [
    "Run `test.ipynb` to see if you've successfully added records to this table."
   ]
  },
  {
   "cell_type": "markdown",
   "metadata": {},
   "source": [
    "## #4: `users` Table\n",
    "#### Extract Data for Users Table\n",
    "- Select columns for user ID, first name, last name, gender and level and set to `user_df`"
   ]
  },
  {
   "cell_type": "code",
   "execution_count": 26,
   "metadata": {},
   "outputs": [
    {
     "data": {
      "text/html": [
       "<div>\n",
       "<style scoped>\n",
       "    .dataframe tbody tr th:only-of-type {\n",
       "        vertical-align: middle;\n",
       "    }\n",
       "\n",
       "    .dataframe tbody tr th {\n",
       "        vertical-align: top;\n",
       "    }\n",
       "\n",
       "    .dataframe thead th {\n",
       "        text-align: right;\n",
       "    }\n",
       "</style>\n",
       "<table border=\"1\" class=\"dataframe\">\n",
       "  <thead>\n",
       "    <tr style=\"text-align: right;\">\n",
       "      <th></th>\n",
       "      <th>userId</th>\n",
       "      <th>firstName</th>\n",
       "      <th>lastName</th>\n",
       "      <th>gender</th>\n",
       "      <th>level</th>\n",
       "    </tr>\n",
       "  </thead>\n",
       "  <tbody>\n",
       "    <tr>\n",
       "      <th>1</th>\n",
       "      <td>7</td>\n",
       "      <td>Adelyn</td>\n",
       "      <td>Jordan</td>\n",
       "      <td>F</td>\n",
       "      <td>free</td>\n",
       "    </tr>\n",
       "    <tr>\n",
       "      <th>6</th>\n",
       "      <td>24</td>\n",
       "      <td>Layla</td>\n",
       "      <td>Griffin</td>\n",
       "      <td>F</td>\n",
       "      <td>paid</td>\n",
       "    </tr>\n",
       "    <tr>\n",
       "      <th>7</th>\n",
       "      <td>24</td>\n",
       "      <td>Layla</td>\n",
       "      <td>Griffin</td>\n",
       "      <td>F</td>\n",
       "      <td>paid</td>\n",
       "    </tr>\n",
       "    <tr>\n",
       "      <th>8</th>\n",
       "      <td>24</td>\n",
       "      <td>Layla</td>\n",
       "      <td>Griffin</td>\n",
       "      <td>F</td>\n",
       "      <td>paid</td>\n",
       "    </tr>\n",
       "    <tr>\n",
       "      <th>9</th>\n",
       "      <td>24</td>\n",
       "      <td>Layla</td>\n",
       "      <td>Griffin</td>\n",
       "      <td>F</td>\n",
       "      <td>paid</td>\n",
       "    </tr>\n",
       "  </tbody>\n",
       "</table>\n",
       "</div>"
      ],
      "text/plain": [
       "  userId firstName lastName gender level\n",
       "1      7    Adelyn   Jordan      F  free\n",
       "6     24     Layla  Griffin      F  paid\n",
       "7     24     Layla  Griffin      F  paid\n",
       "8     24     Layla  Griffin      F  paid\n",
       "9     24     Layla  Griffin      F  paid"
      ]
     },
     "execution_count": 26,
     "metadata": {},
     "output_type": "execute_result"
    }
   ],
   "source": [
    "user_df =df[['userId','firstName','lastName','gender','level']].copy()\n",
    "user_df.head()"
   ]
  },
  {
   "cell_type": "markdown",
   "metadata": {},
   "source": [
    "#### Insert Records into Users Table\n",
    "Implement the `user_table_insert` query in `sql_queries.py` and run the cell below to insert records for the users in this log file into the `users` table. Remember to run `create_tables.py` before running the cell below to ensure you've created/resetted the `users` table in the sparkify database."
   ]
  },
  {
   "cell_type": "code",
   "execution_count": 27,
   "metadata": {},
   "outputs": [],
   "source": [
    "for i, row in user_df.iterrows():\n",
    "    cur.execute(user_table_insert, row)\n",
    "    conn.commit()"
   ]
  },
  {
   "cell_type": "markdown",
   "metadata": {},
   "source": [
    "Run `test.ipynb` to see if you've successfully added records to this table."
   ]
  },
  {
   "cell_type": "markdown",
   "metadata": {},
   "source": [
    "## #5: `songplays` Table\n",
    "#### Extract Data and Songplays Table\n",
    "This one is a little more complicated since information from the songs table, artists table, and original log file are all needed for the `songplays` table. Since the log file does not specify an ID for either the song or the artist, you'll need to get the song ID and artist ID by querying the songs and artists tables to find matches based on song title, artist name, and song duration time.\n",
    "- Implement the `song_select` query in `sql_queries.py` to find the song ID and artist ID based on the title, artist name, and duration of a song.\n",
    "- Select the timestamp, user ID, level, song ID, artist ID, session ID, location, and user agent and set to `songplay_data`\n",
    "\n",
    "#### Insert Records into Songplays Table\n",
    "- Implement the `songplay_table_insert` query and run the cell below to insert records for the songplay actions in this log file into the `songplays` table. Remember to run `create_tables.py` before running the cell below to ensure you've created/resetted the `songplays` table in the sparkify database."
   ]
  },
  {
   "cell_type": "code",
   "execution_count": 28,
   "metadata": {},
   "outputs": [],
   "source": [
    "for index, row in df.iterrows():\n",
    "\n",
    "    # get songid and artistid from song and artist tables\n",
    "    cur.execute(song_select, (row.song, row.artist, row.length))\n",
    "    results = cur.fetchone()\n",
    "    \n",
    "    if results:\n",
    "        songid, artistid = results\n",
    "    else:\n",
    "        songid, artistid = None, None\n",
    "\n",
    "    # insert songplay record\n",
    "    songplay_data = (row.registration, row.ts,row.userId,row.level, songid, artistid,row.sessionId,row.location\n",
    ", row.userAgent)\n",
    "    cur.execute(songplay_table_insert, songplay_data)\n",
    "    conn.commit()"
   ]
  },
  {
   "cell_type": "markdown",
   "metadata": {},
   "source": [
    "Run `test.ipynb` to see if you've successfully added records to this table."
   ]
  },
  {
   "cell_type": "markdown",
   "metadata": {},
   "source": [
    "# Close Connection to Sparkify Database"
   ]
  },
  {
   "cell_type": "code",
   "execution_count": 29,
   "metadata": {},
   "outputs": [],
   "source": [
    "conn.close()"
   ]
  },
  {
   "cell_type": "markdown",
   "metadata": {},
   "source": [
    "# Implement `etl.py`\n",
    "Use what you've completed in this notebook to implement `etl.py`."
   ]
  },
  {
   "cell_type": "code",
   "execution_count": null,
   "metadata": {},
   "outputs": [],
   "source": []
  }
 ],
 "metadata": {
  "kernelspec": {
   "display_name": "Python 3",
   "language": "python",
   "name": "python3"
  },
  "language_info": {
   "codemirror_mode": {
    "name": "ipython",
    "version": 3
   },
   "file_extension": ".py",
   "mimetype": "text/x-python",
   "name": "python",
   "nbconvert_exporter": "python",
   "pygments_lexer": "ipython3",
   "version": "3.6.3"
  }
 },
 "nbformat": 4,
 "nbformat_minor": 4
}
